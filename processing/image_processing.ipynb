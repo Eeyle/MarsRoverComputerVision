{
 "cells": [
  {
   "cell_type": "code",
   "execution_count": 2,
   "metadata": {},
   "outputs": [],
   "source": [
    "import numpy as np\n",
    "import pandas as pd\n",
    "from PIL import Image\n",
    "import regex as re\n",
    "import os"
   ]
  },
  {
   "cell_type": "code",
   "execution_count": 4,
   "metadata": {},
   "outputs": [],
   "source": [
    "synset = {i: 'self' for i in range(25)}\n",
    "synset[8] = 'ground'\n",
    "synset[9] = 'ground'"
   ]
  },
  {
   "cell_type": "code",
   "execution_count": 5,
   "metadata": {},
   "outputs": [],
   "source": [
    "\n",
    "def open_image_files(image_dictionary_path, image_directory_path, destination_path):\n",
    "    with open(image_dictionary_path) as file:\n",
    "        images = file.readlines()\n",
    "    images = [(image.split(' ')[0], int(image.split(' ')[1][:-1])) for image in images]\n",
    "    images = pd.DataFrame(images, columns = ['path', 'label'])\n",
    "    \n",
    "    for image_path in images['path']:\n",
    "        image = Image.open(image_directory_path + image_path).convert('RGB').convert('L')\n",
    "        image = image.resize((64, 64), Image.BILINEAR)\n",
    "        image.save(destination_path + image_path)\n",
    "    \n",
    "    return images"
   ]
  },
  {
   "cell_type": "code",
   "execution_count": 7,
   "metadata": {},
   "outputs": [],
   "source": [
    "train_dictionary = open_image_files(\n",
    "    '../data/train-calibrated-shuffled.txt',\n",
    "    '../data/',\n",
    "    '../data/processed/'\n",
    ")"
   ]
  },
  {
   "cell_type": "code",
   "execution_count": 8,
   "metadata": {},
   "outputs": [
    {
     "data": {
      "text/plain": [
       "(3746, 2)"
      ]
     },
     "execution_count": 8,
     "metadata": {},
     "output_type": "execute_result"
    }
   ],
   "source": [
    "train_dictionary.shape"
   ]
  },
  {
   "cell_type": "code",
   "execution_count": 9,
   "metadata": {},
   "outputs": [
    {
     "data": {
      "text/html": [
       "<div>\n",
       "<style scoped>\n",
       "    .dataframe tbody tr th:only-of-type {\n",
       "        vertical-align: middle;\n",
       "    }\n",
       "\n",
       "    .dataframe tbody tr th {\n",
       "        vertical-align: top;\n",
       "    }\n",
       "\n",
       "    .dataframe thead th {\n",
       "        text-align: right;\n",
       "    }\n",
       "</style>\n",
       "<table border=\"1\" class=\"dataframe\">\n",
       "  <thead>\n",
       "    <tr style=\"text-align: right;\">\n",
       "      <th></th>\n",
       "      <th>path</th>\n",
       "      <th>label</th>\n",
       "    </tr>\n",
       "  </thead>\n",
       "  <tbody>\n",
       "    <tr>\n",
       "      <th>0</th>\n",
       "      <td>calibrated/0077ML0005780000102730I01_DRCL.JPG</td>\n",
       "      <td>15</td>\n",
       "    </tr>\n",
       "    <tr>\n",
       "      <th>1</th>\n",
       "      <td>calibrated/0072MR0005610170103642E01_DRCL.JPG</td>\n",
       "      <td>8</td>\n",
       "    </tr>\n",
       "    <tr>\n",
       "      <th>2</th>\n",
       "      <td>calibrated/0069MR0004130000103477I01_DRCL.JPG</td>\n",
       "      <td>21</td>\n",
       "    </tr>\n",
       "    <tr>\n",
       "      <th>3</th>\n",
       "      <td>calibrated/0154ML0008510010104492E01_DRCL.JPG</td>\n",
       "      <td>8</td>\n",
       "    </tr>\n",
       "    <tr>\n",
       "      <th>4</th>\n",
       "      <td>calibrated/0019MR0000530000100138C00_DRCL.JPG</td>\n",
       "      <td>8</td>\n",
       "    </tr>\n",
       "    <tr>\n",
       "      <th>...</th>\n",
       "      <td>...</td>\n",
       "      <td>...</td>\n",
       "    </tr>\n",
       "    <tr>\n",
       "      <th>3741</th>\n",
       "      <td>calibrated/0163ML0008760050104602D01_DRCL.JPG</td>\n",
       "      <td>10</td>\n",
       "    </tr>\n",
       "    <tr>\n",
       "      <th>3742</th>\n",
       "      <td>calibrated/0072MR0005620000103655E01_DRCL.JPG</td>\n",
       "      <td>8</td>\n",
       "    </tr>\n",
       "    <tr>\n",
       "      <th>3743</th>\n",
       "      <td>calibrated/0066ML0003650000102517M00_DRCL.JPG</td>\n",
       "      <td>21</td>\n",
       "    </tr>\n",
       "    <tr>\n",
       "      <th>3744</th>\n",
       "      <td>calibrated/0157ML0008550020104531I01_DRCL.JPG</td>\n",
       "      <td>8</td>\n",
       "    </tr>\n",
       "    <tr>\n",
       "      <th>3745</th>\n",
       "      <td>calibrated/0057ML0002640010102297E01_DRCL.JPG</td>\n",
       "      <td>8</td>\n",
       "    </tr>\n",
       "  </tbody>\n",
       "</table>\n",
       "<p>3746 rows × 2 columns</p>\n",
       "</div>"
      ],
      "text/plain": [
       "                                               path  label\n",
       "0     calibrated/0077ML0005780000102730I01_DRCL.JPG     15\n",
       "1     calibrated/0072MR0005610170103642E01_DRCL.JPG      8\n",
       "2     calibrated/0069MR0004130000103477I01_DRCL.JPG     21\n",
       "3     calibrated/0154ML0008510010104492E01_DRCL.JPG      8\n",
       "4     calibrated/0019MR0000530000100138C00_DRCL.JPG      8\n",
       "...                                             ...    ...\n",
       "3741  calibrated/0163ML0008760050104602D01_DRCL.JPG     10\n",
       "3742  calibrated/0072MR0005620000103655E01_DRCL.JPG      8\n",
       "3743  calibrated/0066ML0003650000102517M00_DRCL.JPG     21\n",
       "3744  calibrated/0157ML0008550020104531I01_DRCL.JPG      8\n",
       "3745  calibrated/0057ML0002640010102297E01_DRCL.JPG      8\n",
       "\n",
       "[3746 rows x 2 columns]"
      ]
     },
     "execution_count": 9,
     "metadata": {},
     "output_type": "execute_result"
    }
   ],
   "source": [
    "train_dictionary"
   ]
  },
  {
   "cell_type": "code",
   "execution_count": 10,
   "metadata": {},
   "outputs": [],
   "source": [
    "train_dictionary.to_csv('../data/train-calibrated-shuffled.csv')"
   ]
  },
  {
   "cell_type": "code",
   "execution_count": null,
   "metadata": {},
   "outputs": [],
   "source": []
  },
  {
   "cell_type": "code",
   "execution_count": 6,
   "metadata": {},
   "outputs": [],
   "source": [
    "test_dictionary = open_image_files(\n",
    "    '../data/test-calibrated-shuffled.txt',\n",
    "    '../data/',\n",
    "    '../data/processed/'\n",
    ")"
   ]
  },
  {
   "cell_type": "code",
   "execution_count": 7,
   "metadata": {},
   "outputs": [
    {
     "data": {
      "text/html": [
       "<div>\n",
       "<style scoped>\n",
       "    .dataframe tbody tr th:only-of-type {\n",
       "        vertical-align: middle;\n",
       "    }\n",
       "\n",
       "    .dataframe tbody tr th {\n",
       "        vertical-align: top;\n",
       "    }\n",
       "\n",
       "    .dataframe thead th {\n",
       "        text-align: right;\n",
       "    }\n",
       "</style>\n",
       "<table border=\"1\" class=\"dataframe\">\n",
       "  <thead>\n",
       "    <tr style=\"text-align: right;\">\n",
       "      <th></th>\n",
       "      <th>path</th>\n",
       "      <th>label</th>\n",
       "    </tr>\n",
       "  </thead>\n",
       "  <tbody>\n",
       "    <tr>\n",
       "      <th>0</th>\n",
       "      <td>calibrated/0830MR0036510000500684E01_DRCL.JPG</td>\n",
       "      <td>7</td>\n",
       "    </tr>\n",
       "    <tr>\n",
       "      <th>1</th>\n",
       "      <td>calibrated/0640MH0002640000203781I01_DRCL.JPG</td>\n",
       "      <td>24</td>\n",
       "    </tr>\n",
       "    <tr>\n",
       "      <th>2</th>\n",
       "      <td>calibrated/0647MH0003250050203806E01_DRCL.JPG</td>\n",
       "      <td>9</td>\n",
       "    </tr>\n",
       "    <tr>\n",
       "      <th>3</th>\n",
       "      <td>calibrated/0844MR0037590000501001I01_DRCL.JPG</td>\n",
       "      <td>7</td>\n",
       "    </tr>\n",
       "    <tr>\n",
       "      <th>4</th>\n",
       "      <td>calibrated/0618MR0026460020401253I01_DRCL.JPG</td>\n",
       "      <td>11</td>\n",
       "    </tr>\n",
       "    <tr>\n",
       "      <th>...</th>\n",
       "      <td>...</td>\n",
       "      <td>...</td>\n",
       "    </tr>\n",
       "    <tr>\n",
       "      <th>1300</th>\n",
       "      <td>calibrated/0571MH0002590000201894I01_DRCL.JPG</td>\n",
       "      <td>24</td>\n",
       "    </tr>\n",
       "    <tr>\n",
       "      <th>1301</th>\n",
       "      <td>calibrated/0840ML0037090000401385I01_DRCL.JPG</td>\n",
       "      <td>17</td>\n",
       "    </tr>\n",
       "    <tr>\n",
       "      <th>1302</th>\n",
       "      <td>calibrated/0868MH0003900000302200I01_DRCL.JPG</td>\n",
       "      <td>10</td>\n",
       "    </tr>\n",
       "    <tr>\n",
       "      <th>1303</th>\n",
       "      <td>calibrated/0568MH0002630000201882E01_DRCL.JPG</td>\n",
       "      <td>24</td>\n",
       "    </tr>\n",
       "    <tr>\n",
       "      <th>1304</th>\n",
       "      <td>calibrated/0613MH0003900000203392I01_DRCL.JPG</td>\n",
       "      <td>10</td>\n",
       "    </tr>\n",
       "  </tbody>\n",
       "</table>\n",
       "<p>1305 rows × 2 columns</p>\n",
       "</div>"
      ],
      "text/plain": [
       "                                               path  label\n",
       "0     calibrated/0830MR0036510000500684E01_DRCL.JPG      7\n",
       "1     calibrated/0640MH0002640000203781I01_DRCL.JPG     24\n",
       "2     calibrated/0647MH0003250050203806E01_DRCL.JPG      9\n",
       "3     calibrated/0844MR0037590000501001I01_DRCL.JPG      7\n",
       "4     calibrated/0618MR0026460020401253I01_DRCL.JPG     11\n",
       "...                                             ...    ...\n",
       "1300  calibrated/0571MH0002590000201894I01_DRCL.JPG     24\n",
       "1301  calibrated/0840ML0037090000401385I01_DRCL.JPG     17\n",
       "1302  calibrated/0868MH0003900000302200I01_DRCL.JPG     10\n",
       "1303  calibrated/0568MH0002630000201882E01_DRCL.JPG     24\n",
       "1304  calibrated/0613MH0003900000203392I01_DRCL.JPG     10\n",
       "\n",
       "[1305 rows x 2 columns]"
      ]
     },
     "execution_count": 7,
     "metadata": {},
     "output_type": "execute_result"
    }
   ],
   "source": [
    "test_dictionary"
   ]
  },
  {
   "cell_type": "code",
   "execution_count": 8,
   "metadata": {},
   "outputs": [],
   "source": [
    "test_dictionary.to_csv('../data/test-calibrated-shuffled.csv')"
   ]
  },
  {
   "cell_type": "code",
   "execution_count": null,
   "metadata": {},
   "outputs": [],
   "source": []
  },
  {
   "cell_type": "code",
   "execution_count": 9,
   "metadata": {},
   "outputs": [],
   "source": [
    "val_dictionary = open_image_files(\n",
    "    '../data/val-calibrated-shuffled.txt',\n",
    "    '../data/',\n",
    "    '../data/processed/'\n",
    ")"
   ]
  },
  {
   "cell_type": "code",
   "execution_count": 10,
   "metadata": {},
   "outputs": [
    {
     "data": {
      "text/html": [
       "<div>\n",
       "<style scoped>\n",
       "    .dataframe tbody tr th:only-of-type {\n",
       "        vertical-align: middle;\n",
       "    }\n",
       "\n",
       "    .dataframe tbody tr th {\n",
       "        vertical-align: top;\n",
       "    }\n",
       "\n",
       "    .dataframe thead th {\n",
       "        text-align: right;\n",
       "    }\n",
       "</style>\n",
       "<table border=\"1\" class=\"dataframe\">\n",
       "  <thead>\n",
       "    <tr style=\"text-align: right;\">\n",
       "      <th></th>\n",
       "      <th>path</th>\n",
       "      <th>label</th>\n",
       "    </tr>\n",
       "  </thead>\n",
       "  <tbody>\n",
       "    <tr>\n",
       "      <th>0</th>\n",
       "      <td>calibrated/0292MH0002810020103587C00_DRCL.JPG</td>\n",
       "      <td>5</td>\n",
       "    </tr>\n",
       "    <tr>\n",
       "      <th>1</th>\n",
       "      <td>calibrated/0270MH0002530050102760I01_DRCL.JPG</td>\n",
       "      <td>5</td>\n",
       "    </tr>\n",
       "    <tr>\n",
       "      <th>2</th>\n",
       "      <td>calibrated/0549MH0002620000201566E01_DRCL.JPG</td>\n",
       "      <td>24</td>\n",
       "    </tr>\n",
       "    <tr>\n",
       "      <th>3</th>\n",
       "      <td>calibrated/0229MR0009720000202913E01_DRCL.JPG</td>\n",
       "      <td>0</td>\n",
       "    </tr>\n",
       "    <tr>\n",
       "      <th>4</th>\n",
       "      <td>calibrated/0292MH0002810020103613C00_DRCL.JPG</td>\n",
       "      <td>5</td>\n",
       "    </tr>\n",
       "    <tr>\n",
       "      <th>...</th>\n",
       "      <td>...</td>\n",
       "      <td>...</td>\n",
       "    </tr>\n",
       "    <tr>\n",
       "      <th>1635</th>\n",
       "      <td>calibrated/0486MR0011580000302944E01_DRCL.JPG</td>\n",
       "      <td>0</td>\n",
       "    </tr>\n",
       "    <tr>\n",
       "      <th>1636</th>\n",
       "      <td>calibrated/0506MH0002240020200655I01_DRCL.JPG</td>\n",
       "      <td>8</td>\n",
       "    </tr>\n",
       "    <tr>\n",
       "      <th>1637</th>\n",
       "      <td>calibrated/0229MR0010840000202939I01_DRCL.JPG</td>\n",
       "      <td>16</td>\n",
       "    </tr>\n",
       "    <tr>\n",
       "      <th>1638</th>\n",
       "      <td>calibrated/0229MR0009760000202918I01_DRCL.JPG</td>\n",
       "      <td>18</td>\n",
       "    </tr>\n",
       "    <tr>\n",
       "      <th>1639</th>\n",
       "      <td>calibrated/0270MH0002530050102767E01_DRCL.JPG</td>\n",
       "      <td>5</td>\n",
       "    </tr>\n",
       "  </tbody>\n",
       "</table>\n",
       "<p>1640 rows × 2 columns</p>\n",
       "</div>"
      ],
      "text/plain": [
       "                                               path  label\n",
       "0     calibrated/0292MH0002810020103587C00_DRCL.JPG      5\n",
       "1     calibrated/0270MH0002530050102760I01_DRCL.JPG      5\n",
       "2     calibrated/0549MH0002620000201566E01_DRCL.JPG     24\n",
       "3     calibrated/0229MR0009720000202913E01_DRCL.JPG      0\n",
       "4     calibrated/0292MH0002810020103613C00_DRCL.JPG      5\n",
       "...                                             ...    ...\n",
       "1635  calibrated/0486MR0011580000302944E01_DRCL.JPG      0\n",
       "1636  calibrated/0506MH0002240020200655I01_DRCL.JPG      8\n",
       "1637  calibrated/0229MR0010840000202939I01_DRCL.JPG     16\n",
       "1638  calibrated/0229MR0009760000202918I01_DRCL.JPG     18\n",
       "1639  calibrated/0270MH0002530050102767E01_DRCL.JPG      5\n",
       "\n",
       "[1640 rows x 2 columns]"
      ]
     },
     "execution_count": 10,
     "metadata": {},
     "output_type": "execute_result"
    }
   ],
   "source": [
    "val_dictionary"
   ]
  },
  {
   "cell_type": "code",
   "execution_count": 11,
   "metadata": {},
   "outputs": [],
   "source": [
    "val_dictionary.to_csv('../data/val-calibrated-shuffled.csv')"
   ]
  }
 ],
 "metadata": {
  "kernelspec": {
   "display_name": "Python [conda env:dsi] *",
   "language": "python",
   "name": "conda-env-dsi-py"
  },
  "language_info": {
   "codemirror_mode": {
    "name": "ipython",
    "version": 3
   },
   "file_extension": ".py",
   "mimetype": "text/x-python",
   "name": "python",
   "nbconvert_exporter": "python",
   "pygments_lexer": "ipython3",
   "version": "3.7.7"
  }
 },
 "nbformat": 4,
 "nbformat_minor": 4
}
